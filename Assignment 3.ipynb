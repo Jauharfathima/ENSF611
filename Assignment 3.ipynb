{
 "cells": [
  {
   "cell_type": "markdown",
   "id": "92778525",
   "metadata": {},
   "source": [
    "# Assignment 3: Non-Linear Models and Validation Metrics (37 total marks)\n",
    "### Due: October 24 at 11:59pm\n",
    "\n",
    "### Name: JAUHAR FATHIMA"
   ]
  },
  {
   "cell_type": "markdown",
   "id": "ce31b39a",
   "metadata": {},
   "source": [
    "### In this assignment, you will need to write code that uses non-linear models to perform classification and regression tasks. You will also be asked to describe the process by which you came up with the code. More details can be found below. Please cite any websites or AI tools that you used to help you with this assignment."
   ]
  },
  {
   "cell_type": "markdown",
   "id": "cf275ca7",
   "metadata": {},
   "source": [
    "### Import Libraries"
   ]
  },
  {
   "cell_type": "code",
   "execution_count": 1,
   "id": "2b67a661",
   "metadata": {},
   "outputs": [],
   "source": [
    "import numpy as np\n",
    "import pandas as pd\n",
    "import matplotlib.pyplot as plt\n",
    "import seaborn as sns"
   ]
  },
  {
   "cell_type": "markdown",
   "id": "5ee2d2c3",
   "metadata": {},
   "source": [
    "## Part 1: Regression (14.5 marks)\n",
    "\n",
    "For this section, we will be continuing with the concrete example from yellowbrick. You will need to compare these results to the results from the previous assignment. Please use the results from the solution if you were unable to complete Assignment 2"
   ]
  },
  {
   "cell_type": "markdown",
   "id": "8219f163",
   "metadata": {},
   "source": [
    "### Step 1: Data Input (0.5 marks)\n",
    "\n",
    "The data used for this task can be downloaded using the yellowbrick library: \n",
    "https://www.scikit-yb.org/en/latest/api/datasets/concrete.html\n",
    "\n",
    "Use the yellowbrick function `load_concrete()` to load the concrete dataset into the feature matrix `X` and target vector `y`."
   ]
  },
  {
   "cell_type": "code",
   "execution_count": 2,
   "id": "2af8bd32",
   "metadata": {},
   "outputs": [],
   "source": [
    "# TO DO: Import concrete dataset from yellowbrick library\n",
    "from yellowbrick.datasets import load_concrete\n",
    "X, y = load_concrete()"
   ]
  },
  {
   "cell_type": "markdown",
   "id": "42fea4cc",
   "metadata": {},
   "source": [
    "### Step 2: Data Processing (0 marks)\n",
    "\n",
    "Data processing was completed in the previous assignment. No need to repeat here."
   ]
  },
  {
   "cell_type": "markdown",
   "id": "2a245d00",
   "metadata": {},
   "source": [
    "### Step 3: Implement Machine Learning Model\n",
    "\n",
    "1. Import the Decision Tree, Random Forest and Gradient Boosting Machines regression models from sklearn\n",
    "2. Instantiate the three models with `max_depth = 5`. Are there any other parameters that you will need to set?\n",
    "3. Implement each machine learning model with `X` and `y`"
   ]
  },
  {
   "cell_type": "markdown",
   "id": "3f994e31",
   "metadata": {},
   "source": [
    "### Step 4: Validate Model\n",
    "\n",
    "Calculate the average training and validation accuracy using mean squared error with cross-validation. To do this, you will need to set `scoring='neg_mean_squared_error'` in your `cross_validate` function and negate the results (multiply by -1)"
   ]
  },
  {
   "cell_type": "markdown",
   "id": "5fc3f7a8",
   "metadata": {},
   "source": [
    "### Step 5: Visualize Results (4 marks)\n",
    "\n",
    "1. Create a pandas DataFrame `results` with columns: Training accuracy and Validation accuracy, and index: DT, RF and GB\n",
    "2. Add the accuracy results to the `results` DataFrame\n",
    "3. Print `results`"
   ]
  },
  {
   "cell_type": "code",
   "execution_count": 3,
   "id": "fdc93a78",
   "metadata": {},
   "outputs": [
    {
     "name": "stdout",
     "output_type": "stream",
     "text": [
      "    Training Accuracy  Validation Accuracy\n",
      "DT          47.822974            74.045335\n",
      "RF          30.296363            47.614708\n",
      "GB           3.694308            23.546500\n"
     ]
    }
   ],
   "source": [
    "# TO DO: ADD YOUR CODE HERE FOR STEPS 3-5\n",
    "# Note: for any random state parameters, you can use random_state = 0\n",
    "# HINT: USING A LOOP TO STORE THE DATA IN YOUR RESULTS DATAFRAME WILL BE MORE EFFICIENT\n",
    "\n",
    "from sklearn.tree import DecisionTreeRegressor\n",
    "from sklearn.ensemble import RandomForestRegressor\n",
    "from sklearn.ensemble import GradientBoostingRegressor\n",
    "from sklearn.model_selection import train_test_split\n",
    "from sklearn.model_selection import cross_validate\n",
    "from sklearn.metrics import make_scorer, mean_squared_error\n",
    "\n",
    "# Creating a training and testing split (train - 80%, test - 20%)\n",
    "X_train, X_test, y_train, y_test = train_test_split(X, y,\n",
    "                                                    test_size=0.2,\n",
    "                                                    random_state=0)\n",
    "\n",
    "# Instantiate and fit models with parameters: max_depth = 5, random_state = 0\n",
    "\n",
    "# Decision Tree\n",
    "tree = DecisionTreeRegressor(max_depth=5, random_state=0)\n",
    "tree.fit(X_train, y_train)\n",
    "\n",
    "# Creating validation model\n",
    "scores_tree = cross_validate(tree, X_train, y_train, cv=5,\n",
    "                        scoring='neg_mean_squared_error',\n",
    "                       return_train_score=True)\n",
    "\n",
    "# Creating data for training and validation\n",
    "for label_pair in [ ('train_score', 'train_score')]:\n",
    "    train1 = (-scores_tree[label_pair[0]].mean())\n",
    "for label_pair in [ ('test_score', 'validation_score')]:\n",
    "    val1 = (-scores_tree[label_pair[0]].mean())\n",
    "\n",
    "# Random Forest\n",
    "forest = RandomForestRegressor(max_depth=5, random_state=0)\n",
    "forest.fit(X_train, y_train)\n",
    "\n",
    "# Creating validation model\n",
    "scores_forest = cross_validate(forest, X_train, y_train, cv=5,\n",
    "                        scoring='neg_mean_squared_error',\n",
    "                       return_train_score=True)\n",
    "\n",
    "# Creating data for training and validation\n",
    "for label_pair in [ ('train_score', 'train_score')]:\n",
    "    train2 = (-scores_forest[label_pair[0]].mean())\n",
    "for label_pair in [ ('test_score', 'validation_score')]:\n",
    "    val2 = (-scores_forest[label_pair[0]].mean())\n",
    "\n",
    "# Gradient Boosting\n",
    "gbrt = GradientBoostingRegressor(max_depth=5, random_state=0)\n",
    "gbrt.fit(X_train, y_train)\n",
    "\n",
    "# Creating validation model\n",
    "scores_gbrt = cross_validate(gbrt, X_train, y_train, cv=5,\n",
    "                        scoring='neg_mean_squared_error',\n",
    "                       return_train_score=True)\n",
    "\n",
    "# Creating data for training and validation\n",
    "for label_pair in [ ('train_score', 'train_score')]:\n",
    "    train3 = (-scores_gbrt[label_pair[0]].mean())\n",
    "for label_pair in [ ('test_score', 'validation_score')]:\n",
    "    val3 = (-scores_gbrt[label_pair[0]].mean())\n",
    "\n",
    "# Creating the Dataframe\n",
    "data = {'Training Accuracy': [train1, train2, train3],\n",
    "            'Validation Accuracy': [val1, val2, val3]}\n",
    "results = pd.DataFrame(data, index=['DT', 'RF', 'GB'])\n",
    "print(results)\n"
   ]
  },
  {
   "cell_type": "markdown",
   "id": "31715a9d",
   "metadata": {},
   "source": [
    "Repeat the step above to print the R2 score instead of the mean-squared error. For this case, you can use `scoring='r2'`"
   ]
  },
  {
   "cell_type": "code",
   "execution_count": 4,
   "id": "83539f47",
   "metadata": {},
   "outputs": [
    {
     "name": "stdout",
     "output_type": "stream",
     "text": [
      "    Training Accuracy  Validation Accuracy\n",
      "DT           0.830437             0.735184\n",
      "RF           0.892634             0.830004\n",
      "GB           0.986903             0.916155\n"
     ]
    }
   ],
   "source": [
    "# TO DO: ADD YOUR CODE HERE\n",
    "\n",
    "# Decision Tree\n",
    "# Creating validation model\n",
    "scores_tree = cross_validate(tree, X_train, y_train, cv=5,\n",
    "                        scoring='r2',\n",
    "                       return_train_score=True)\n",
    "\n",
    "# Creating data for training and validation\n",
    "for label_pair in [ ('train_score', 'train_score')]:\n",
    "    train1 = (scores_tree[label_pair[0]].mean())\n",
    "for label_pair in [ ('test_score', 'validation_score')]:\n",
    "    val1 = (scores_tree[label_pair[0]].mean())\n",
    "\n",
    "# Random Forest\n",
    "# Creating validation model\n",
    "scores_forest = cross_validate(forest, X_train, y_train, cv=5,\n",
    "                        scoring='r2',\n",
    "                       return_train_score=True)\n",
    "\n",
    "# Creating data for training and validation\n",
    "for label_pair in [ ('train_score', 'train_score')]:\n",
    "    train2 = (scores_forest[label_pair[0]].mean())\n",
    "for label_pair in [ ('test_score', 'validation_score')]:\n",
    "    val2 = (scores_forest[label_pair[0]].mean())\n",
    "\n",
    "# Gradient Boosting\n",
    "# Creating validation model\n",
    "scores_gbrt = cross_validate(gbrt, X_train, y_train, cv=5,\n",
    "                        scoring='r2',\n",
    "                       return_train_score=True)\n",
    "\n",
    "# Creating data for training and validation\n",
    "for label_pair in [ ('train_score', 'train_score')]:\n",
    "    train3 = (scores_gbrt[label_pair[0]].mean())\n",
    "for label_pair in [ ('test_score', 'validation_score')]:\n",
    "    val3 = (scores_gbrt[label_pair[0]].mean())\n",
    "\n",
    "# Creating the Dataframe\n",
    "data = {'Training Accuracy': [train1, train2, train3],\n",
    "            'Validation Accuracy': [val1, val2, val3]}\n",
    "results = pd.DataFrame(data, index=['DT', 'RF', 'GB'])\n",
    "print(results)"
   ]
  },
  {
   "cell_type": "markdown",
   "id": "a5257a98",
   "metadata": {},
   "source": [
    "### Questions (6 marks)\n",
    "1. How do these results compare to the results using a linear model in the previous assignment? Use values.\n",
    "1. Out of the models you tested, which model would you select for this dataset and why?\n",
    "1. If you wanted to increase the accuracy of the tree-based models, what would you do? Provide two suggestions.\n",
    "\n",
    "*ANSWER HERE*\n",
    "1.Compared to the linear model, the non-linear models performed significantly better. In terms of Mean Squared Error (MSE), linear regression had a training score of 110.345501 and a validation score of 95.635335. In contrast, the decision tree had a training score of 47.822974 and a validation score of 74.045335. Random forest had a training score of 30.296363 and a validation score of 47.614708, while gradient boosting achieved a training score of 3.694308 and a validation score of 23.546500. The non-linear models had lower MSE, indicating improved performance. R-squared (R2) scores also showed improvement: linear regression had a training R2 of 0.609071 and a validation R2 of 0.636898, while the non-linear models had R2 scores much closer to 1, signifying better model fit.\n",
    "\n",
    "2.I would select the gradient boosting model for this dataset. It had the lowest MSE and the highest R2 score, indicating superior predictive performance. However, I would consider reducing the model's depth to mitigate potential overfitting.\n",
    "\n",
    "3.To enhance the accuracy of the tree-based models:\n",
    "a. Prune the tree or reduce the depth of the models to combat overfitting.\n",
    "b. Post-prune the tree by removing nodes with limited information content to simplify the model and prevent overfitting."
   ]
  },
  {
   "cell_type": "markdown",
   "id": "37b238f4",
   "metadata": {},
   "source": [
    "### Process Description (4 marks)\n",
    "Please describe the process you used to create your code. Cite any websites or generative AI tools used. You can use the following questions as guidance:\n",
    "1. Where did you source your code?\n",
    "1. In what order did you complete the steps?\n",
    "1. If you used generative AI, what prompts did you use? Did you need to modify the code at all? Why or why not?\n",
    "1. Did you have any challenges? If yes, what were they? If not, what helped you to be successful?"
   ]
  },
  {
   "cell_type": "markdown",
   "id": "93097bfe",
   "metadata": {},
   "source": [
    "*DESCRIBE YOUR PROCESS HERE*\n",
    "1.The source code was derived mainly from the lecture examples: Decision Trees, Decision Trees Examples and Ensembles. The only additional resource was to get the cross-validation portion correct for mse which was a bit unclear. \n",
    "2.The steps were completed in the order they were asked.\n",
    "3.AI was not that  necessary since the lecture code and internet was simple enough to easily modify.\n",
    "4.The only challenge faced was using cross-validation with mean squared error for this I had to consult stack exchange.\n"
   ]
  },
  {
   "cell_type": "markdown",
   "id": "f7c6de86",
   "metadata": {},
   "source": [
    "## Part 2: Classification (17.5 marks)\n",
    "\n",
    "You have been asked to develop code that can help the user classify different wine samples. Following the machine learning workflow described in class, write the relevant code in each of the steps below:"
   ]
  },
  {
   "cell_type": "markdown",
   "id": "5f9d33a8",
   "metadata": {},
   "source": [
    "### Step 1: Data Input (2 marks)\n",
    "\n",
    "The data used for this task can be downloaded from UCI: https://archive.ics.uci.edu/dataset/109/wine\n",
    "\n",
    "Use the pandas library to load the dataset. You must define the column headers if they are not included in the dataset \n",
    "\n",
    "You will need to split the dataset into feature matrix `X` and target vector `y`. Which column represents the target vector?\n",
    "\n",
    "Print the size and type of `X` and `y`"
   ]
  },
  {
   "cell_type": "code",
   "execution_count": null,
   "id": "33583c67",
   "metadata": {},
   "outputs": [],
   "source": [
    "# TO DO: Import wine dataset\n",
    "\n",
    "def load_wine():\n",
    "    '''Load and pre-process wine data\n",
    "\n",
    "    it will be downloaded from\n",
    "    https://archive.ics.uci.edu/dataset/109/wine/wine.data\n",
    "\n",
    "    return: data(DataFrame)\n",
    "\n",
    "    '''\n",
    "\n",
    "    import os\n",
    "    import requests\n",
    "\n",
    "\n",
    "    file_url = 'https://archive.ics.uci.edu/dataset/109/wine/wine.data'\n",
    "    file_name = file_url.split('/')[-1]\n",
    "\n",
    "    if not os.path.isfile(file_name):\n",
    "        print('Downloading from {}'.format(file_url))\n",
    "        r = requests.get(file_url)\n",
    "        with open(file_name,'wb') as output_file:\n",
    "            output_file.write(r.content)\n",
    "\n",
    "    data = pd.read_csv(file_name, sep=',', names= ['Class', 'Alcohol', 'Malic Acid', 'Ash', 'Alcalinity of Ash',\n",
    "                'Magnesium', 'Total phenols', 'Flavanoids', 'Nonflavanoid Phenols',\n",
    "                'Proanthocyanins', 'Color Intensity', 'Hue', 'OD280/OD315 of Diluted Wines',\n",
    "                'Proline'])\n",
    "    return data\n",
    "\n",
    "# Method to load data if file in directory:\n",
    "#data = pd.read_csv('wine.data', sep=',')\n",
    "#df = pd.DataFrame(data)\n",
    "#df.columns = ['Class', 'Alcohol', 'Malic Acid', 'Ash', 'Alcalinity of Ash',\n",
    "                # 'Magnesium', 'Total phenols', 'Flavanoids', 'Nonflavanoid Phenols',\n",
    "                # 'Proanthocyanins', 'Color Intensity', 'Hue', 'OD280/OD315 of Diluted Wines',\n",
    "                # 'Proline']\n",
    "\n",
    "data = load_wine()\n",
    "#print(data.info())\n",
    "\n",
    "# Creating feature matrix and target vector (class) to determine each of the 3 wines\n",
    "X = data.drop(columns='Class')\n",
    "y = data['Class']\n",
    "print(X.shape)a\n",
    "print(y.shape)\n",
    "print(X.dtypes)\n",
    "print(y.dtypes)"
   ]
  },
  {
   "cell_type": "markdown",
   "id": "156db208",
   "metadata": {},
   "source": [
    "### Step 2: Data Processing (1.5 marks)"
   ]
  },
  {
   "cell_type": "markdown",
   "id": "a28af110",
   "metadata": {},
   "source": [
    "Print the first five rows of the dataset to inspect:"
   ]
  },
  {
   "cell_type": "code",
   "execution_count": null,
   "id": "ea266921",
   "metadata": {},
   "outputs": [],
   "source": [
    "# TO DO: ADD YOUR CODE HERE\n",
    "data.head(5)"
   ]
  },
  {
   "cell_type": "markdown",
   "id": "834fc8fe",
   "metadata": {},
   "source": [
    "Check to see if there are any missing values in the dataset. If necessary, select an appropriate method to fill-in the missing values"
   ]
  },
  {
   "cell_type": "code",
   "execution_count": null,
   "id": "97c6e9dc",
   "metadata": {},
   "outputs": [],
   "source": [
    "# TO DO: ADD YOUR CODE HERE\n",
    "data.isnull().sum()"
   ]
  },
  {
   "cell_type": "markdown",
   "id": "070956af",
   "metadata": {},
   "source": [
    "How many samples do we have of each type of wine?"
   ]
  },
  {
   "cell_type": "code",
   "execution_count": null,
   "id": "b37a6fd9",
   "metadata": {},
   "outputs": [],
   "source": [
    "# TO DO: ADD YOUR CODE HERE\n",
    "print(\"Class 1: \", len(data[data.Class == 1]))\n",
    "print(\"Class 2: \", len(data[data.Class == 2]))\n",
    "print(\"Class 3: \", len(data[data.Class == 3]))"
   ]
  },
  {
   "cell_type": "markdown",
   "id": "70e6c46f",
   "metadata": {},
   "source": [
    "### Step 3: Implement Machine Learning Model\n",
    "\n",
    "1. Import `SVC` and `DecisionTreeClassifier` from sklearn\n",
    "2. Instantiate models as `SVC()` and `DecisionTreeClassifier(max_depth = 3)`\n",
    "3. Implement the machine learning model with `X` and `y`"
   ]
  },
  {
   "cell_type": "markdown",
   "id": "0870b0d2",
   "metadata": {},
   "source": [
    "### Step 4: Validate Model \n",
    "\n",
    "Calculate the average training and validation accuracy using `cross_validate` for the two different models listed in Step 3. For this case, use `scoring='accuracy'`"
   ]
  },
  {
   "cell_type": "markdown",
   "id": "bb0bbd83",
   "metadata": {},
   "source": [
    "### Step 5: Visualize Results (4 marks)\n",
    "\n",
    "#### Step 5.1: Compare Models\n",
    "1. Create a pandas DataFrame `results` with columns: Training accuracy and Validation accuracy\n",
    "2. Add the data size, training and validation accuracy for each dataset to the `results` DataFrame\n",
    "3. Print `results`"
   ]
  },
  {
   "cell_type": "code",
   "execution_count": null,
   "id": "be4b5c0a",
   "metadata": {},
   "outputs": [],
   "source": [
    "# TO DO: ADD YOUR CODE HERE FOR STEPS 3-5\n",
    "# Note: for any random state parameters, you can use random_state = 0\n",
    "# HINT: USING A LOOP TO STORE THE DATA IN YOUR RESULTS DATAFRAME WILL BE MORE EFFICIENT\n",
    "\n",
    "from sklearn.tree import DecisionTreeClassifier\n",
    "from sklearn.svm import SVC\n",
    "\n",
    "# Creating a training and testing split (train - 80%, test - 20%)\n",
    "X_train, X_test, y_train, y_test = train_test_split(X, y,\n",
    "                                                    test_size=0.2,\n",
    "                                                    random_state=0)\n",
    "\n",
    "# Instantiating models\n",
    "svc = SVC()\n",
    "tree = DecisionTreeClassifier(max_depth=3, random_state=0)\n",
    "\n",
    "# Fitting models\n",
    "svc.fit(X_train, y_train)\n",
    "tree.fit(X_train, y_train)\n",
    "\n",
    "# Creating validation model\n",
    "# SVC\n",
    "scores_svc = cross_validate(svc, X_train, y_train, cv=5,\n",
    "                        scoring='accuracy',\n",
    "                       return_train_score=True)\n",
    "\n",
    "# Creating data for training and validation\n",
    "for label_pair in [ ('train_score', 'train_score')]:\n",
    "    train1 = (scores_svc[label_pair[0]].mean())\n",
    "for label_pair in [ ('test_score', 'validation_score')]:\n",
    "    val1 = (scores_svc[label_pair[0]].mean())\n",
    "\n",
    "# tree\n",
    "scores_tree = cross_validate(tree, X_train, y_train, cv=5,\n",
    "                        scoring='accuracy',\n",
    "                       return_train_score=True)\n",
    "\n",
    "# Creating data for training and validation\n",
    "for label_pair in [ ('train_score', 'train_score')]:\n",
    "    train2 = (scores_tree[label_pair[0]].mean())\n",
    "for label_pair in [ ('test_score', 'validation_score')]:\n",
    "    val2 = (scores_tree[label_pair[0]].mean())\n",
    "\n",
    "# Creating the Dataframe\n",
    "data = {'Data Size': [X.shape, X.shape],\n",
    "            'Training Accuracy': [train1, train2],\n",
    "            'Validation Accuracy': [val1, val2]}\n",
    "results = pd.DataFrame(data)\n",
    "\n",
    "print(results)"
   ]
  },
  {
   "cell_type": "markdown",
   "id": "f2e17878",
   "metadata": {},
   "source": [
    "#### Step 5.2: Visualize Classification Errors\n",
    "Which method gave the highest accuracy? Use this method to print the confusion matrix and classification report:"
   ]
  },
  {
   "cell_type": "code",
   "execution_count": null,
   "id": "44b091a4",
   "metadata": {},
   "outputs": [],
   "source": [
    "# TO DO: Implement best model\n",
    "#Decision Tree Classifier\n",
    "\n",
    "tree.fit(X_train, y_train)\n"
   ]
  },
  {
   "cell_type": "code",
   "execution_count": null,
   "id": "09d21b59",
   "metadata": {},
   "outputs": [],
   "source": [
    "# TO DO: Print confusion matrix using a heatmap\n",
    "from sklearn.metrics import confusion_matrix\n",
    "\n",
    "mat = confusion_matrix(y_test, tree.predict(X_test))\n",
    "\n",
    "sns.heatmap(mat, square=True, annot=True, cbar=False)\n",
    "plt.xlabel('predicted value')\n",
    "plt.ylabel('true value')"
   ]
  },
  {
   "cell_type": "code",
   "execution_count": null,
   "id": "5ef95947",
   "metadata": {},
   "outputs": [],
   "source": [
    "# TO DO: Print classification report\n",
    "# TO DO: Print classification report\n",
    "from sklearn.metrics import classification_report\n",
    "\n",
    "target_names = ['class 1', 'class 2', 'class 3']\n",
    "print(classification_report(y_test, tree.predict(X_test), target_names=target_names))"
   ]
  },
  {
   "cell_type": "markdown",
   "id": "bf319621",
   "metadata": {},
   "source": [
    "### Questions (6 marks)\n",
    "1. How do the training and validation accuracy change depending on the method used? Explain with values.\n",
    "1. What are two reasons why the support vector machines model did not work as well as the tree-based model?\n",
    "1. How many samples were incorrectly classified in step 5.2? \n",
    "1. In this case, is maximizing precision or recall more important? Why?\n",
    "\n",
    "*YOUR ANSWERS HERE*"
   ]
  },
  {
   "cell_type": "markdown",
   "id": "664ff8ae",
   "metadata": {},
   "source": [
    "### Process Description (4 marks)\n",
    "Please describe the process you used to create your code. Cite any websites or generative AI tools used. You can use the following questions as guidance:\n",
    "1. Where did you source your code?\n",
    "1. In what order did you complete the steps?\n",
    "1. If you used generative AI, what prompts did you use? Did you need to modify the code at all? Why or why not?\n",
    "1. Did you have any challenges? If yes, what were they? If not, what helped you to be successful?"
   ]
  },
  {
   "cell_type": "markdown",
   "id": "d0e837da",
   "metadata": {},
   "source": [
    "*DESCRIBE YOUR PROCESS HERE*\n",
    "1.The source code was derived mainly from the lecture examples: Decision Trees, Decision Trees Examples and SVM. The only additional resource was to get the classification report, since that was not something we had done before. For this, scikit-learn documentation was used: https://scikit-learn.org/stable/modules/generated/sklearn.metrics.classification_report.html\n",
    "2.The steps were completed in the order they were asked.\n",
    "3.No generative AI was necessary since the lecture code and internet was simple enough to easily modify.\n",
    "4.The only challenge faced was loading the wine data from the website. Prior to this, all datasets were extracted from scikit-learn but this time required some trial and error to upload the data properly with correct formatting and creating the target vector and feature matrix"
   ]
  },
  {
   "cell_type": "markdown",
   "id": "4cd7358d",
   "metadata": {},
   "source": [
    "## Part 3: Observations/Interpretation (3 marks)\n",
    "\n",
    "Describe any pattern you see in the results. Relate your findings to what we discussed during lectures. Include data to justify your findings.\n",
    "\n",
    "\n",
    "*ADD YOUR FINDINGS HERE*\n",
    "For the decision tree, the training and validation accuracy was higher than for SVM. this many features can be too much for the model and make it too computationally intensive. This time, for the decision tree, the model seemed to work very well and produced high scores. However, the difference between the training and testing set does indicate some overfitting of the model, causing high variance. The same can be true for the concrete example. The scores were much better than last lab but there might have been some overfitting and the models would benefit from regularization."
   ]
  },
  {
   "cell_type": "markdown",
   "id": "cd97b6ac",
   "metadata": {},
   "source": [
    "## Part 4: Reflection (2 marks)\n",
    "Include a sentence or two about:\n",
    "- what you liked or disliked,\n",
    "- found interesting, confusing, challangeing, motivating\n",
    "while working on this assignment.\n",
    "\n",
    "\n",
    "*ADD YOUR THOUGHTS HERE*\n",
    "I had some difficulty with the visualization part in Part 2, but in the end was able to do both the confusion matrix and the report. I had not read a 3x3 matrix before so this was a new aspect for me to learn in this lab."
   ]
  },
  {
   "cell_type": "markdown",
   "id": "fa21e53b",
   "metadata": {},
   "source": [
    "## Part 5: Bonus Question (3 marks)\n",
    "\n",
    "Repeat Part 2 and compare the support vector machines model used to `LinearSVC(max_iter=5000)`. Does using `LinearSVC` improve the results? Why or why not?\n",
    "\n",
    "Is `LinearSVC` a good fit for this dataset? Why or why not?"
   ]
  },
  {
   "cell_type": "code",
   "execution_count": 1,
   "id": "30fea72e",
   "metadata": {},
   "outputs": [],
   "source": [
    "# TO DO: ADD YOUR CODE HERE\n",
    "\n",
    "from sklearn.svm import LinearSVC\n",
    "\n",
    "# Creating a training and testing split (train - 80%, test - 20%)\n",
    "X_train, X_test, y_train, y_test = train_test_split(X, y,\n",
    "                                                    test_size=0.2,\n",
    "                                                    random_state=0)\n",
    "\n",
    "# Instantiating models\n",
    "svc = LinearSVC(max_iter=5000)\n",
    "\n",
    "# Fitting models\n",
    "svc.fit(X_train, y_train)\n",
    "\n",
    "# Creating validation model\n",
    "# SVC\n",
    "scores_svc = cross_validate(svc, X_train, y_train, cv=5,\n",
    "                        scoring='accuracy',\n",
    "                       return_train_score=True)\n",
    "\n",
    "# Creating data for training and validation\n",
    "for label_pair in [ ('train_score', 'train_score')]:\n",
    "    train1 = (scores_svc[label_pair[0]].mean())\n",
    "for label_pair in [ ('test_score', 'validation_score')]:\n",
    "    val1 = (scores_svc[label_pair[0]].mean())\n",
    "\n",
    "# Creating the Dataframe\n",
    "data = {'Data Size': [X.shape],\n",
    "            'Training Accuracy': [train1],\n",
    "            'Validation Accuracy': [val1]}\n",
    "pd.DataFrame(data)\n"
   ]
  },
  {
   "cell_type": "markdown",
   "id": "aabc68a4",
   "metadata": {},
   "source": [
    "*ANSWER HERE*"
   ]
  },
  {
   "cell_type": "code",
   "execution_count": null,
   "id": "241c3b12",
   "metadata": {},
   "outputs": [],
   "source": [
    "Yes, using LinearSVC did improve the scores by a lot. This might be because the initial definition of SVC, as we have done, does not support multi-class classificaitons."
   ]
  }
 ],
 "metadata": {
  "kernelspec": {
   "display_name": "Python 3 (ipykernel)",
   "language": "python",
   "name": "python3"
  },
  "language_info": {
   "codemirror_mode": {
    "name": "ipython",
    "version": 3
   },
   "file_extension": ".py",
   "mimetype": "text/x-python",
   "name": "python",
   "nbconvert_exporter": "python",
   "pygments_lexer": "ipython3",
   "version": "3.11.5"
  }
 },
 "nbformat": 4,
 "nbformat_minor": 5
}
